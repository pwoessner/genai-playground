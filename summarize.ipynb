{
 "cells": [
  {
   "cell_type": "code",
   "execution_count": 6,
   "metadata": {},
   "outputs": [],
   "source": [
    "from langchain.chains.summarize import load_summarize_chain\n",
    "from internals.util import loadPDF\n",
    "from internals.llm import openAI, ollama"
   ]
  },
  {
   "cell_type": "code",
   "execution_count": null,
   "metadata": {},
   "outputs": [],
   "source": [
    "# Set the LLM to be used\n",
    "\n",
    "# llm = openAI()\n",
    "llm = ollama()"
   ]
  },
  {
   "cell_type": "code",
   "execution_count": null,
   "metadata": {},
   "outputs": [],
   "source": [
    "# Load the content to be summarized\n",
    "\n",
    "pages = loadPDF(\"knowledge/Strategy_Paper_2023_13.pdf\")"
   ]
  },
  {
   "cell_type": "code",
   "execution_count": 8,
   "metadata": {},
   "outputs": [
    {
     "name": "stdout",
     "output_type": "stream",
     "text": [
      "SAP's mobile experience strategy aims to provide unparalleled business power at users' fingertips by closing the gap between what businesses and workers need to do and how they want to do it. The company plans to deliver a mobile experience that is intuitive, easy to use, and adaptable to various tools and platforms. SAP's approach will leverage native features, AI, and machine learning to provide personalized experiences for users. The strategy focuses on creating new and extended experiences using native features, including on-device AI, and providing a consistent design across all SAP products and solutions. Additionally, the company plans to continuously gather customer feedback and improve integration-ready solutions from its ecosystem. Overall, SAP's mobile experience strategy aims to empower people with more efficient and intuitive ways of working while leveraging the company's unique industry and business process expertise.SAP's mobile experience strategy aims to provide unparalleled business power at users' fingertips by closing the gap between what businesses and workers need to do and how they want to do it. The company plans to deliver a mobile experience that is intuitive, easy to use, and adaptable to various tools and platforms. SAP's approach will leverage native features, AI, and machine learning to provide personalized experiences for users. The strategy focuses on creating new and extended experiences using native features, including on-device AI, and providing a consistent design across all SAP products and solutions. Additionally, the company plans to continuously gather customer feedback and improve integration-ready solutions from its ecosystem. Overall, SAP's mobile experience strategy aims to empower people with more efficient and intuitive ways of working while leveraging the company's unique industry and business process expertise.\n"
     ]
    }
   ],
   "source": [
    "# Execute the chain\n",
    "\n",
    "chain = load_summarize_chain(llm, chain_type=\"stuff\")\n",
    "summary = chain.run(pages)\n",
    "print(summary)"
   ]
  }
 ],
 "metadata": {
  "kernelspec": {
   "display_name": "sapai",
   "language": "python",
   "name": "python3"
  },
  "language_info": {
   "codemirror_mode": {
    "name": "ipython",
    "version": 3
   },
   "file_extension": ".py",
   "mimetype": "text/x-python",
   "name": "python",
   "nbconvert_exporter": "python",
   "pygments_lexer": "ipython3",
   "version": "3.11.4"
  }
 },
 "nbformat": 4,
 "nbformat_minor": 2
}
