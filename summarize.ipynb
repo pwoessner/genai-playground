{
 "cells": [
  {
   "cell_type": "code",
   "execution_count": 2,
   "metadata": {},
   "outputs": [],
   "source": [
    "from langchain.chains.summarize import load_summarize_chain\n",
    "from internals.util import loadPDF\n",
    "from internals.llm import sapAI, ollama"
   ]
  },
  {
   "cell_type": "code",
   "execution_count": 10,
   "metadata": {},
   "outputs": [],
   "source": [
    "# Set the LLM to be used\n",
    "\n",
    "llm = sapAI()\n",
    "# llm = ollama(model=\"mistral\")"
   ]
  },
  {
   "cell_type": "code",
   "execution_count": 6,
   "metadata": {},
   "outputs": [],
   "source": [
    "# Load the content to be summarized\n",
    "\n",
    "pages = loadPDF(\"documents/Strategy_Paper_2023_13.pdf\")"
   ]
  },
  {
   "cell_type": "code",
   "execution_count": 11,
   "metadata": {},
   "outputs": [
    {
     "name": "stdout",
     "output_type": "stream",
     "text": [
      "SAP is offering a mobile experience that aims to close the gap between what businesses and workers need to do and how they want to do it. The strategy includes a suite of apps that are easy to use and offer a range of features, including AI and natural-language processing. The mobile experience is designed to be adaptable and easy to use, and can be accessed on a range of devices, including phones, tablets, and watches. SAP's mobile experience also includes a native entry point, SAP Mobile Start, which provides an intuitive app for both professionals and beginners. The company is also offering the SAP Business Technology Platform, which provides the foundation for implementing SAP's integration-ready app suite.\n"
     ]
    }
   ],
   "source": [
    "# Execute the chain\n",
    "\n",
    "chain = load_summarize_chain(llm, chain_type=\"stuff\")\n",
    "summary = chain.run(pages)\n",
    "print(summary)"
   ]
  }
 ],
 "metadata": {
  "kernelspec": {
   "display_name": "sapai",
   "language": "python",
   "name": "python3"
  },
  "language_info": {
   "codemirror_mode": {
    "name": "ipython",
    "version": 3
   },
   "file_extension": ".py",
   "mimetype": "text/x-python",
   "name": "python",
   "nbconvert_exporter": "python",
   "pygments_lexer": "ipython3",
   "version": "3.11.5"
  }
 },
 "nbformat": 4,
 "nbformat_minor": 2
}
